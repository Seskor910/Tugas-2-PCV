{
 "cells": [
  {
   "cell_type": "markdown",
   "metadata": {},
   "source": [
    "### Convolusi Spasial"
   ]
  },
  {
   "cell_type": "code",
   "execution_count": 1,
   "metadata": {},
   "outputs": [],
   "source": [
    "import cv2\n",
    "from matplotlib import pyplot as plt\n",
    "import numpy as np\n",
    "\n",
    "image = cv2.imread(\"a.jpg\",cv2.IMREAD_GRAYSCALE)\n",
    "w =np.ones((3,3))/9\n",
    "newImage = cv2.filter2D(src=image, ddepth=-1, kernel=w)\n",
    "\n",
    "cv2.imshow('Citra Asli', image)\n",
    "\n",
    "cv2.imshow('Hasil Convolosi', newImage)\n",
    "cv2.waitKey(0)\n",
    "cv2.destroyAllWindows()"
   ]
  },
  {
   "cell_type": "markdown",
   "metadata": {},
   "source": [
    "### Lowpass Spasial Filter dengan Kernel Box Filter"
   ]
  },
  {
   "cell_type": "code",
   "execution_count": 6,
   "metadata": {},
   "outputs": [],
   "source": [
    "import cv2\n",
    "from matplotlib import pyplot as plt\n",
    "import numpy as np\n",
    "\n",
    "image = cv2.imread(\"a.jpg\",cv2.IMREAD_GRAYSCALE)\n",
    "cv2.imshow('Citra Asli', image)\n",
    "\n",
    "newImage1 = cv2.blur(src=image, ksize=(3,3))\n",
    "cv2.imshow('Hasil Convolosi 1', newImage1)\n",
    "newImage2 = cv2.blur(src=newImage1, ksize=(5,5))\n",
    "cv2.imshow('Hasil Convolosi 2', newImage2)\n",
    "\n",
    "newImage3 = cv2.blur(src=newImage2, ksize=(7,7))\n",
    "cv2.imshow('Hasil Convolosi 3', newImage3)\n",
    "\n",
    "cv2.waitKey(0)\n",
    "cv2.destroyAllWindows()"
   ]
  },
  {
   "cell_type": "markdown",
   "metadata": {},
   "source": [
    "###  Lowpass Filter menggunakan gaussian kernel"
   ]
  },
  {
   "cell_type": "code",
   "execution_count": 3,
   "metadata": {},
   "outputs": [],
   "source": [
    "import cv2\n",
    "from matplotlib import pyplot as plt\n",
    "import numpy as np\n",
    "\n",
    "image = cv2.imread(\"a.jpg\",cv2.IMREAD_GRAYSCALE)\n",
    "gaussian_blur = cv2.GaussianBlur(src=image, ksize=(5,5), sigmaX=0, sigmaY=0)\n",
    "\n",
    "cv2.imshow('Citra Asli', image)\n",
    "\n",
    "cv2.imshow('Hasil Convolosi', gaussian_blur)\n",
    "cv2.waitKey(0)\n",
    "cv2.destroyAllWindows()"
   ]
  },
  {
   "cell_type": "markdown",
   "metadata": {},
   "source": [
    "### Filter Highpass Spasial pada fungsi 2 dimensi f(x,y)"
   ]
  },
  {
   "cell_type": "code",
   "execution_count": 4,
   "metadata": {},
   "outputs": [],
   "source": [
    "import cv2\n",
    "from matplotlib import pyplot as plt\n",
    "import numpy as np\n",
    "\n",
    "image = cv2.imread(\"a.jpg\",cv2.IMREAD_GRAYSCALE)\n",
    "gaussian_blur = image - cv2.GaussianBlur(image, (5,5), 4) + 127\n",
    "\n",
    "cv2.imshow('Citra Asli', image)\n",
    "\n",
    "cv2.imshow('Hasil Convolosi', gaussian_blur)\n",
    "cv2.waitKey(0)\n",
    "cv2.destroyAllWindows()"
   ]
  }
 ],
 "metadata": {
  "kernelspec": {
   "display_name": "base",
   "language": "python",
   "name": "python3"
  },
  "language_info": {
   "codemirror_mode": {
    "name": "ipython",
    "version": 3
   },
   "file_extension": ".py",
   "mimetype": "text/x-python",
   "name": "python",
   "nbconvert_exporter": "python",
   "pygments_lexer": "ipython3",
   "version": "3.11.4"
  },
  "orig_nbformat": 4
 },
 "nbformat": 4,
 "nbformat_minor": 2
}
